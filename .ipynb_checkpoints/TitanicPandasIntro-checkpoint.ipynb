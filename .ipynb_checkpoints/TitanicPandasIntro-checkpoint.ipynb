{
 "metadata": {
  "name": "",
  "signature": "sha256:06a99f5e93bda85bc68929d3a8342bef1fc43502e455f1c3a53f4057176a323a"
 },
 "nbformat": 3,
 "nbformat_minor": 0,
 "worksheets": [
  {
   "cells": [
    {
     "cell_type": "heading",
     "level": 2,
     "metadata": {},
     "source": [
      "Set up the environmentby importing need libraries."
     ]
    },
    {
     "cell_type": "code",
     "collapsed": false,
     "input": [
      "import pandas as pd\n",
      "import numpy as np\n",
      "import os"
     ],
     "language": "python",
     "metadata": {},
     "outputs": []
    },
    {
     "cell_type": "heading",
     "level": 2,
     "metadata": {},
     "source": [
      "Pandas has an excel reader that lets you easily import the microsoft format.  There are built-in or thrid party libraries that will help you import all the other commen data formats ie. csv, xml, json,...\n"
     ]
    },
    {
     "cell_type": "heading",
     "level": 4,
     "metadata": {},
     "source": [
      "Here we read in the most up to date titanic passenger dataset I could find. http://lib.stat.cmu.edu/S/Harrell/data/xls/titanic3.xls\n",
      "\n",
      "DESCRIPTIVE ABSTRACT: The titanic3 data frame describes the survival\n",
      "status of individual passengers on the Titanic.  The titanic3 data\n",
      "frame does not contain information for the crew, but it does contain\n",
      "actual and estimated ages for almost 80% of the passengers.\n",
      "\n",
      "SOURCES: Hind, Philip.  \"Encyclopedia Titanica.\"  Online.  Internet.\n",
      "n.p.  02 Aug 1999.  Avaliable http://atschool.eduweb.co.uk/phind"
     ]
    },
    {
     "cell_type": "heading",
     "level": 6,
     "metadata": {},
     "source": [
      "pandas.read_excel will return a Pandas DataFrame"
     ]
    },
    {
     "cell_type": "code",
     "collapsed": false,
     "input": [
      "data = pd.read_excel('data/titanic3.xls', sheetname='titanic3')"
     ],
     "language": "python",
     "metadata": {},
     "outputs": []
    },
    {
     "cell_type": "heading",
     "level": 2,
     "metadata": {},
     "source": [
      "Using .head() on a dataframe object lets us see the header and the first five rows."
     ]
    },
    {
     "cell_type": "code",
     "collapsed": false,
     "input": [
      "data.head()"
     ],
     "language": "python",
     "metadata": {},
     "outputs": []
    },
    {
     "cell_type": "heading",
     "level": 2,
     "metadata": {},
     "source": [
      "We can find the total number of passengers by looking at the length of the dataframe"
     ]
    },
    {
     "cell_type": "code",
     "collapsed": false,
     "input": [
      "number_passengers = len(data)\n",
      "number_passengers"
     ],
     "language": "python",
     "metadata": {},
     "outputs": []
    },
    {
     "cell_type": "heading",
     "level": 2,
     "metadata": {},
     "source": [
      "The DataFrame contains Series (extended numpy arrays) which let us sum of the array to get the number of survivors."
     ]
    },
    {
     "cell_type": "code",
     "collapsed": false,
     "input": [
      "number_survivors = sum(data.survived)\n",
      "number_survivors"
     ],
     "language": "python",
     "metadata": {},
     "outputs": []
    },
    {
     "cell_type": "heading",
     "level": 2,
     "metadata": {},
     "source": [
      "Using the two previous variables we can find the portion of those who survived.  Note that we have to cast number_passengers as a float to avoid integer division."
     ]
    },
    {
     "cell_type": "code",
     "collapsed": false,
     "input": [
      "proportion_survivors = number_survivors/float(number_passengers)\n",
      "proportion_survivors"
     ],
     "language": "python",
     "metadata": {},
     "outputs": []
    },
    {
     "cell_type": "heading",
     "level": 2,
     "metadata": {},
     "source": [
      "Adding a new column to a datafram is simple."
     ]
    },
    {
     "cell_type": "code",
     "collapsed": false,
     "input": [
      "data['Year'] = 1912\n",
      "data.head()"
     ],
     "language": "python",
     "metadata": {},
     "outputs": []
    },
    {
     "cell_type": "heading",
     "level": 2,
     "metadata": {},
     "source": [
      "Here we see how to extract subsets as dataframes.  We will split the passenger list into women and men."
     ]
    },
    {
     "cell_type": "code",
     "collapsed": false,
     "input": [
      "women_only = data[data.sex.isin([\"female\"])]\n",
      "women_onboard = len(women_only)\n",
      "women_only.head()"
     ],
     "language": "python",
     "metadata": {},
     "outputs": []
    },
    {
     "cell_type": "code",
     "collapsed": false,
     "input": [
      "men_only = data[data.sex.isin([\"male\"])]\n",
      "men_onboard = len(men_only)"
     ],
     "language": "python",
     "metadata": {},
     "outputs": []
    },
    {
     "cell_type": "code",
     "collapsed": false,
     "input": [
      "print 'Number of women onboard was %s' % women_onboard\n",
      "print 'Number of men onboard was %s' % men_onboard"
     ],
     "language": "python",
     "metadata": {},
     "outputs": []
    },
    {
     "cell_type": "heading",
     "level": 2,
     "metadata": {},
     "source": [
      "Now lets look how the gender of a passenger affected their survival rate."
     ]
    },
    {
     "cell_type": "code",
     "collapsed": false,
     "input": [
      "portion_women_survived = sum(women_only.survived) / float(women_onboard)\n",
      "portion_men_survived = sum(men_only.survived) / float(men_onboard)\n",
      "print 'Portion of women who survived is %s%%' % round(portion_women_survived * 100, 2)\n",
      "print 'Portion of men who survived is %s%%' % round(portion_men_survived * 100, 2)"
     ],
     "language": "python",
     "metadata": {},
     "outputs": []
    }
   ],
   "metadata": {}
  }
 ]
}