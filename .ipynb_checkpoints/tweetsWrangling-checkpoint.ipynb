{
 "metadata": {
  "name": "",
  "signature": "sha256:1c5a44e4ecb40d349638d1c72c49d69dae87a76c44a733756ed4d9271bcb553c"
 },
 "nbformat": 3,
 "nbformat_minor": 0,
 "worksheets": [
  {
   "cells": [
    {
     "cell_type": "code",
     "collapsed": false,
     "input": [
      "import sys\n",
      "import pandas as pd\n",
      "import json as js"
     ],
     "language": "python",
     "metadata": {},
     "outputs": [],
     "prompt_number": 11
    },
    {
     "cell_type": "code",
     "collapsed": false,
     "input": [
      "#GNIP formatted json file location\n",
      "loc = '/Users/mcook2/junk/ipy/3gniptweets.json'"
     ],
     "language": "python",
     "metadata": {},
     "outputs": [],
     "prompt_number": 12
    },
    {
     "cell_type": "code",
     "collapsed": false,
     "input": [
      "#formatting a json string from the file\n",
      "data = \"[{0}]\".format(\",\".join([l for l in open(loc).readlines()]))"
     ],
     "language": "python",
     "metadata": {},
     "outputs": [],
     "prompt_number": 13
    },
    {
     "cell_type": "code",
     "collapsed": false,
     "input": [
      "print data"
     ],
     "language": "python",
     "metadata": {},
     "outputs": [
      {
       "output_type": "stream",
       "stream": "stdout",
       "text": [
        "[{\"id\":\"tag:search.twitter.com,2005:512947166654906369\",\"objectType\":\"activity\",\"actor\":{\"objectType\":\"person\",\"id\":\"id:twitter.com:60364834\",\"link\":\"http://www.twitter.com/DetroitCP\",\"displayName\":\"Detroit CP\",\"postedTime\":\"2009-07-26T18:34:40.000Z\",\"image\":\"http://pbs.twimg.com/profile_images/333129676/twitter-d_normal.gif\",\"summary\":\"Detroit City And Press\",\"links\":[{\"href\":\"http://detroit.cityandpress.com/\",\"rel\":\"me\"}],\"friendsCount\":4,\"followersCount\":2502,\"listedCount\":80,\"statusesCount\":217597,\"twitterTimeZone\":\"Eastern Time (US & Canada)\",\"verified\":false,\"utcOffset\":-14400,\"preferredUsername\":\"DetroitCP\",\"languages\":[\"en\"],\"favoritesCount\":0,\"location\":{\"objectType\":\"place\",\"displayName\":\"Detroit, MI\"}},\"verb\":\"post\",\"postedTime\":\"2014-09-19T12:51:49.000Z\",\"generator\":{\"displayName\":\"dlvr.it\",\"link\":\"http://dlvr.it\"},\"provider\":{\"objectType\":\"service\",\"displayName\":\"Twitter\",\"link\":\"http://www.twitter.com\"},\"link\":\"http://www.twitter.com/DetroitCP/statuses/512947166654906369\",\"body\":\"5 things to watch: Which Justin Verlander will show up for Detroit Tigers in Kansas City tonight?: Tigers manager... http://t.co/fWmb0DISs8\",\"object\":{\"objectType\":\"note\",\"id\":\"object:search.twitter.com,2005:512947166654906369\",\"summary\":\"5 things to watch: Which Justin Verlander will show up for Detroit Tigers in Kansas City tonight?: Tigers manager... http://t.co/fWmb0DISs8\",\"link\":\"http://www.twitter.com/DetroitCP/statuses/512947166654906369\",\"postedTime\":\"2014-09-19T12:51:49.000Z\"},\"twitter_entities\":{\"hashtags\":[],\"trends\":[],\"urls\":[{\"url\":\"http://t.co/fWmb0DISs8\",\"expanded_url\":\"http://dlvr.it/6y7GPm\",\"display_url\":\"dlvr.it/6y7GPm\",\"indices\":[117,139]}],\"user_mentions\":[],\"symbols\":[]},\"retweetCount\":0,\"twitter_filter_level\":\"medium\",\"twitter_lang\":\"en\",\"favoritesCount\":0,\"location\":{\"objectType\":\"place\",\"displayName\":\"Detroit, MI\",\"name\":\"Detroit\",\"country_code\":\"US\",\"link\":\"https://api.twitter.com/1.1/geo/id/b463d3bd6064861b.json\",\"geo\":{\"type\":\"Polygon\",\"coordinates\":[[[-83.288056,42.255085],[-83.288056,42.450488],[-82.91052,42.450488],[-82.91052,42.255085]]]}},\"geo\":{\"type\":\"Point\",\"coordinates\":[42.333127,-83.048488]},\"socialtap\":{\"twitter_status_id\":512947166654906369,\"twitter_user_id\":60364834,\"geo_location\":{\"lon\":-83.048488,\"lat\":42.333127}}}\n",
        ",{\"id\":\"tag:search.twitter.com,2005:513184124421828608\",\"objectType\":\"activity\",\"actor\":{\"objectType\":\"person\",\"id\":\"id:twitter.com:457160283\",\"link\":\"http://www.twitter.com/HMardenborough\",\"displayName\":\"Hal Mardenborough\",\"postedTime\":\"2012-01-07T03:03:44.000Z\",\"image\":\"http://pbs.twimg.com/profile_images/423691692286291968/IYfzzndd_normal.jpeg\",\"summary\":null,\"links\":[{\"href\":null,\"rel\":\"me\"}],\"friendsCount\":134,\"followersCount\":15,\"listedCount\":0,\"statusesCount\":103,\"twitterTimeZone\":null,\"verified\":false,\"utcOffset\":null,\"preferredUsername\":\"HMardenborough\",\"languages\":[\"en\"],\"favoritesCount\":0},\"verb\":\"post\",\"postedTime\":\"2014-09-20T04:33:24.000Z\",\"generator\":{\"displayName\":\"Twitter for iPhone\",\"link\":\"http://twitter.com/download/iphone\"},\"provider\":{\"objectType\":\"service\",\"displayName\":\"Twitter\",\"link\":\"http://www.twitter.com\"},\"link\":\"http://www.twitter.com/HMardenborough/statuses/513184124421828608\",\"body\":\"Is FSU run based on polling media talking heads who are paid to stir up trouble? #WinstonSuspension #embaressed\",\"object\":{\"objectType\":\"note\",\"id\":\"object:search.twitter.com,2005:513184124421828608\",\"summary\":\"Is FSU run based on polling media talking heads who are paid to stir up trouble? #WinstonSuspension #embaressed\",\"link\":\"http://www.twitter.com/HMardenborough/statuses/513184124421828608\",\"postedTime\":\"2014-09-20T04:33:24.000Z\"},\"twitter_entities\":{\"hashtags\":[{\"text\":\"WinstonSuspension\",\"indices\":[81,99]},{\"text\":\"embaressed\",\"indices\":[100,111]}],\"trends\":[],\"urls\":[],\"user_mentions\":[],\"symbols\":[]},\"retweetCount\":0,\"twitter_filter_level\":\"medium\",\"twitter_lang\":\"en\",\"favoritesCount\":0,\"location\":{\"objectType\":\"place\",\"displayName\":\"Tallahassee, FL\",\"name\":\"Tallahassee\",\"country_code\":\"US\",\"link\":\"https://api.twitter.com/1.1/geo/id/ecbe2aea853af44e.json\",\"geo\":{\"type\":\"Polygon\",\"coordinates\":[[[-84.386548,30.365093],[-84.386548,30.587338],[-84.1458,30.587338],[-84.1458,30.365093]]]}},\"geo\":{\"type\":\"Point\",\"coordinates\":[30.571772,-84.25477]},\"socialtap\":{\"twitter_status_id\":513184124421828608,\"twitter_user_id\":457160283,\"geo_location\":{\"lon\":-84.25477,\"lat\":30.571772}}}\n",
        ",{\"id\":\"tag:search.twitter.com,2005:512971951980441600\",\"objectType\":\"activity\",\"actor\":{\"objectType\":\"person\",\"id\":\"id:twitter.com:373152583\",\"link\":\"http://www.twitter.com/MiihSantanaw\",\"displayName\":\"Miih \u270c \u200f\",\"postedTime\":\"2011-09-14T02:39:07.000Z\",\"image\":\"http://pbs.twimg.com/profile_images/506175575338528768/ArkXWvEM_normal.jpeg\",\"summary\":\"@roldanzinho O que me faz bem \u00e9 voce  \u2665 M\u00f4 \u2665\",\"links\":[{\"href\":null,\"rel\":\"me\"}],\"friendsCount\":2001,\"followersCount\":692,\"listedCount\":0,\"statusesCount\":5775,\"twitterTimeZone\":\"Brasilia\",\"verified\":false,\"utcOffset\":-10800,\"preferredUsername\":\"MiihSantanaw\",\"languages\":[\"pt\"],\"favoritesCount\":107,\"location\":{\"objectType\":\"place\",\"displayName\":\"Fenda Do Biquine ~\"}},\"verb\":\"post\",\"postedTime\":\"2014-09-19T14:30:18.000Z\",\"generator\":{\"displayName\":\"Twitter for Android\",\"link\":\"http://twitter.com/download/android\"},\"provider\":{\"objectType\":\"service\",\"displayName\":\"Twitter\",\"link\":\"http://www.twitter.com\"},\"link\":\"http://www.twitter.com/MiihSantanaw/statuses/512971951980441600\",\"body\":\"Nossa vao tomar no cu\",\"object\":{\"objectType\":\"note\",\"id\":\"object:search.twitter.com,2005:512971951980441600\",\"summary\":\"Nossa vao tomar no cu\",\"link\":\"http://www.twitter.com/MiihSantanaw/statuses/512971951980441600\",\"postedTime\":\"2014-09-19T14:30:18.000Z\"},\"twitter_entities\":{\"hashtags\":[],\"trends\":[],\"urls\":[],\"user_mentions\":[],\"symbols\":[]},\"retweetCount\":0,\"twitter_filter_level\":\"medium\",\"twitter_lang\":\"pt\",\"favoritesCount\":0,\"location\":{\"objectType\":\"place\",\"displayName\":\"Ponta Grossa, Paran\u00e1\",\"name\":\"Ponta Grossa\",\"country_code\":\"BR\",\"link\":\"https://api.twitter.com/1.1/geo/id/062364f1745605a7.json\",\"geo\":{\"type\":\"Polygon\",\"coordinates\":[[[-50.458669,-25.4036341],[-50.458669,-24.891016],[-49.683355,-24.891016],[-49.683355,-25.4036341]]]}},\"geo\":{\"type\":\"Point\",\"coordinates\":[-25.044672,-50.224002]},\"socialtap\":{\"twitter_status_id\":512971951980441600,\"twitter_user_id\":373152583,\"geo_location\":{\"lon\":-50.224002,\"lat\":-25.044672}}}\n",
        "]\n"
       ]
      }
     ],
     "prompt_number": 14
    },
    {
     "cell_type": "code",
     "collapsed": false,
     "input": [
      "#convert the json string into a pandas dataframe\n",
      "df = pd.read_json(data, orient='records')"
     ],
     "language": "python",
     "metadata": {},
     "outputs": []
    },
    {
     "cell_type": "code",
     "collapsed": false,
     "input": [
      "df.head()"
     ],
     "language": "python",
     "metadata": {},
     "outputs": []
    },
    {
     "cell_type": "code",
     "collapsed": false,
     "input": [
      "df.postedTime[0]"
     ],
     "language": "python",
     "metadata": {},
     "outputs": []
    },
    {
     "cell_type": "code",
     "collapsed": false,
     "input": [
      "#grab the geo column from the dataframe which is a json string\n",
      "#bash the column of json strings with pandas.Series to convert it to a dataframe\n",
      "#and add an index \n",
      "geo = df['geo'].apply(pd.Series).reset_index()\n",
      "#grab the actor column from the dataframe which is a json string\n",
      "#bash the column of json string with pandas.Series to convert it to a dataframe \n",
      "#and add an index\n",
      "actor = df['actor'].apply(pd.Series).reset_index()\n",
      "#merge the two dataframes together on index\n",
      "tweets = pd.merge(geo, actor)"
     ],
     "language": "python",
     "metadata": {},
     "outputs": []
    },
    {
     "cell_type": "code",
     "collapsed": false,
     "input": [
      "actor.head()"
     ],
     "language": "python",
     "metadata": {},
     "outputs": []
    },
    {
     "cell_type": "code",
     "collapsed": false,
     "input": [
      "#grab the coordinates column from the tweets dataframe\n",
      "coordinates = tweets['coordinates']\n",
      "#function to split the corrdinates by bashing list with pandas.Series\n",
      "splitCoord = lambda x: pd.Series(x)\n",
      "#apply the function to each row in the column\n",
      "coord = coordinates.apply(splitCoord)\n",
      "#rename the columns x & y \n",
      "coord.columns = ['x','y']"
     ],
     "language": "python",
     "metadata": {},
     "outputs": []
    },
    {
     "cell_type": "code",
     "collapsed": false,
     "input": [
      "coord.head()"
     ],
     "language": "python",
     "metadata": {},
     "outputs": []
    },
    {
     "cell_type": "code",
     "collapsed": false,
     "input": [
      "#drop the index column in preparation for esri friendly json file\n",
      "tweets.drop('index', axis=1, inplace=True)\n",
      "#drop the old unseperated coordinates column\n",
      "tweets.drop('coordinates', axis=1, inplace=True)"
     ],
     "language": "python",
     "metadata": {},
     "outputs": []
    },
    {
     "cell_type": "code",
     "collapsed": false,
     "input": [
      "#the json string that will be wrote to a file\n",
      "jsonString = ''\n",
      "\n",
      "#build the esri json string \n",
      "for i in coord.index:\n",
      "    jsonString += \"\"\"{\n",
      "    \"geometry\": %s\n",
      "    \"attributes: %s\n",
      "}\n",
      "\"\"\" % (coord.loc[i].to_json(), tweets.loc[i].to_json())\n",
      "    "
     ],
     "language": "python",
     "metadata": {},
     "outputs": []
    },
    {
     "cell_type": "code",
     "collapsed": false,
     "input": [
      "#location for esri hadoop json file\n",
      "output = open('./esriHadoop.json', 'w')\n",
      "output.write(jsonString)\n",
      "output.close()"
     ],
     "language": "python",
     "metadata": {},
     "outputs": []
    },
    {
     "cell_type": "code",
     "collapsed": false,
     "input": [
      "csvString = ''\n",
      "for i in coord.index:\n",
      "    csvString += \"\"\"%s,%s,%s\\n\"\"\" % (str(df.postedTime[i]),str(coord.x[i]),str(coord.y[i]))"
     ],
     "language": "python",
     "metadata": {},
     "outputs": []
    },
    {
     "cell_type": "code",
     "collapsed": false,
     "input": [
      "csvString"
     ],
     "language": "python",
     "metadata": {},
     "outputs": []
    },
    {
     "cell_type": "code",
     "collapsed": false,
     "input": [
      "output = open('./esriHadoop.csv', 'w')\n",
      "output.write(csvString)\n",
      "output.close()"
     ],
     "language": "python",
     "metadata": {},
     "outputs": []
    },
    {
     "cell_type": "code",
     "collapsed": false,
     "input": [
      "!cat esriHadoop.csv"
     ],
     "language": "python",
     "metadata": {},
     "outputs": []
    },
    {
     "cell_type": "code",
     "collapsed": false,
     "input": [],
     "language": "python",
     "metadata": {},
     "outputs": []
    }
   ],
   "metadata": {}
  }
 ]
}