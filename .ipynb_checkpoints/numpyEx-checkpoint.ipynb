{
 "metadata": {
  "name": "",
  "signature": "sha256:d8e0ab383e15b0876bd10cd0bc284699c61e827fac3d44b7a2461db36218304f"
 },
 "nbformat": 3,
 "nbformat_minor": 0,
 "worksheets": []
}