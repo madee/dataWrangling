{
 "metadata": {
  "name": "",
  "signature": "sha256:dfeba737451515e7acd52f964a3368a30fc35a58093c8d3fbe054172ff2d8a47"
 },
 "nbformat": 3,
 "nbformat_minor": 0,
 "worksheets": [
  {
   "cells": [
    {
     "cell_type": "heading",
     "level": 2,
     "metadata": {},
     "source": [
      "Introduction to Pandas for data manipulation"
     ]
    },
    {
     "cell_type": "heading",
     "level": 4,
     "metadata": {},
     "source": [
      "First we will set up the environment by importing Pandas"
     ]
    },
    {
     "cell_type": "code",
     "collapsed": false,
     "input": [
      "from pandas import Series, DataFrame\n",
      "import pandas as pd"
     ],
     "language": "python",
     "metadata": {},
     "outputs": [],
     "prompt_number": 142
    },
    {
     "cell_type": "heading",
     "level": 4,
     "metadata": {},
     "source": [
      "Getting to know the Series and DataFrames data structures"
     ]
    },
    {
     "cell_type": "heading",
     "level": 4,
     "metadata": {},
     "source": [
      "A series is an array like object containing data and an associated array on indexes."
     ]
    },
    {
     "cell_type": "code",
     "collapsed": false,
     "input": [
      "attendence = Series([15, 18, 21, 16])"
     ],
     "language": "python",
     "metadata": {},
     "outputs": []
    },
    {
     "cell_type": "code",
     "collapsed": false,
     "input": [
      "attendence"
     ],
     "language": "python",
     "metadata": {},
     "outputs": []
    },
    {
     "cell_type": "heading",
     "level": 4,
     "metadata": {},
     "source": [
      "Without specifying an index it will default starting at 0 to N-1"
     ]
    },
    {
     "cell_type": "code",
     "collapsed": false,
     "input": [
      "attendence = Series([15,18,21,16], index=['hadoop','introLinux','introHpc','dataAnalysis'])"
     ],
     "language": "python",
     "metadata": {},
     "outputs": []
    },
    {
     "cell_type": "code",
     "collapsed": false,
     "input": [
      "attendence"
     ],
     "language": "python",
     "metadata": {},
     "outputs": []
    },
    {
     "cell_type": "heading",
     "level": 4,
     "metadata": {},
     "source": [
      "We can use the index to select values."
     ]
    },
    {
     "cell_type": "code",
     "collapsed": false,
     "input": [
      "attendence['introHpc']"
     ],
     "language": "python",
     "metadata": {},
     "outputs": []
    },
    {
     "cell_type": "heading",
     "level": 4,
     "metadata": {},
     "source": [
      "Or select a set of values."
     ]
    },
    {
     "cell_type": "code",
     "collapsed": false,
     "input": [
      "attendence[['introLinux','dataAnalysis']]"
     ],
     "language": "python",
     "metadata": {},
     "outputs": []
    },
    {
     "cell_type": "heading",
     "level": 4,
     "metadata": {},
     "source": [
      "Or to set a vaule."
     ]
    },
    {
     "cell_type": "code",
     "collapsed": false,
     "input": [
      "attendence['introHpc'] = 24\n",
      "attendence"
     ],
     "language": "python",
     "metadata": {},
     "outputs": []
    },
    {
     "cell_type": "code",
     "collapsed": false,
     "input": [
      "attendence[attendence > 16]  "
     ],
     "language": "python",
     "metadata": {},
     "outputs": []
    },
    {
     "cell_type": "code",
     "collapsed": false,
     "input": [
      "attendence"
     ],
     "language": "python",
     "metadata": {},
     "outputs": []
    },
    {
     "cell_type": "heading",
     "level": 4,
     "metadata": {},
     "source": [
      "A DataFrame is a tabular data structure similar to a spreadsheet.  It contains an ordered set of columns, each of which can be different datatypes (boolean, string, ...) DataFrames have both row and column indexs.  It can be thought of as a dict Series, all sharing the same index."
     ]
    },
    {
     "cell_type": "heading",
     "level": 4,
     "metadata": {},
     "source": [
      "Here 'data' is a dict of equal length arrays"
     ]
    },
    {
     "cell_type": "code",
     "collapsed": false,
     "input": [
      "data = {'className': ['hadoop', 'hadoop', 'introHpc', 'introHpc', 'introLinux', 'introLinux'],\n",
      "        'semester': ['fall14', 'spring15', 'fall14', 'spring15', 'fall14', 'spring15'],\n",
      "        'attendence': [15, 24, 20, 28, 23, 22]}"
     ],
     "language": "python",
     "metadata": {},
     "outputs": []
    },
    {
     "cell_type": "code",
     "collapsed": false,
     "input": [
      "frame = DataFrame(data)"
     ],
     "language": "python",
     "metadata": {},
     "outputs": []
    },
    {
     "cell_type": "code",
     "collapsed": false,
     "input": [
      "frame"
     ],
     "language": "python",
     "metadata": {},
     "outputs": []
    },
    {
     "cell_type": "heading",
     "level": 4,
     "metadata": {},
     "source": [
      "You can see that it sorted the columns.  If we want them to be a specific sequence we must state it when creating."
     ]
    },
    {
     "cell_type": "code",
     "collapsed": false,
     "input": [
      "frame = DataFrame(data, columns=['className','semester','attendence'])\n",
      "frame"
     ],
     "language": "python",
     "metadata": {},
     "outputs": []
    },
    {
     "cell_type": "heading",
     "level": 4,
     "metadata": {},
     "source": [
      "You can select columns from a data frame like you would with a dict or by attribute."
     ]
    },
    {
     "cell_type": "code",
     "collapsed": false,
     "input": [
      "frame['className']"
     ],
     "language": "python",
     "metadata": {},
     "outputs": []
    },
    {
     "cell_type": "code",
     "collapsed": false,
     "input": [
      "frame.className"
     ],
     "language": "python",
     "metadata": {},
     "outputs": []
    },
    {
     "cell_type": "heading",
     "level": 4,
     "metadata": {},
     "source": [
      "You can access a row using the index function .ix"
     ]
    },
    {
     "cell_type": "code",
     "collapsed": false,
     "input": [
      "frame.ix[2]"
     ],
     "language": "python",
     "metadata": {},
     "outputs": []
    },
    {
     "cell_type": "heading",
     "level": 4,
     "metadata": {},
     "source": [
      "New columns can added.  Assigning a new column that doesn't exist will create it."
     ]
    },
    {
     "cell_type": "code",
     "collapsed": false,
     "input": [
      "frame['gpa'] = 2.5\n",
      "frame"
     ],
     "language": "python",
     "metadata": {},
     "outputs": []
    },
    {
     "cell_type": "heading",
     "level": 4,
     "metadata": {},
     "source": [
      "Or you could use any array of vaules."
     ]
    },
    {
     "cell_type": "code",
     "collapsed": false,
     "input": [
      "grades = [3,2.5,3.5,3.7,3.2,4]\n",
      "frame['gpa'] = grades\n",
      "frame"
     ],
     "language": "python",
     "metadata": {},
     "outputs": []
    },
    {
     "cell_type": "code",
     "collapsed": false,
     "input": [
      "frame.columns"
     ],
     "language": "python",
     "metadata": {},
     "outputs": []
    },
    {
     "cell_type": "heading",
     "level": 4,
     "metadata": {},
     "source": [
      "You can reference a specific cell location by using .loc[row_index, col_index]"
     ]
    },
    {
     "cell_type": "code",
     "collapsed": false,
     "input": [
      "frame.loc[4,'attendence'] = 17\n",
      "frame"
     ],
     "language": "python",
     "metadata": {},
     "outputs": []
    },
    {
     "cell_type": "heading",
     "level": 4,
     "metadata": {},
     "source": [
      "DataFrame functionality"
     ]
    },
    {
     "cell_type": "heading",
     "level": 4,
     "metadata": {},
     "source": [
      "Often you may need to reidex the data. You can do this by row, column, or both.  There are also different ways to fill in missing data if needed. http://pandas.pydata.org/pandas-docs/dev/generated/pandas.DataFrame.reindex.html"
     ]
    },
    {
     "cell_type": "code",
     "collapsed": false,
     "input": [
      "index = [0,1,2,3,4,5,6,7]\n",
      "frame2 = frame.reindex(index=[0,1,2,3,4,5,6,7], columns=['className', 'semester', 'attendence', 'gpa', 'instructor'])\n",
      "frame2"
     ],
     "language": "python",
     "metadata": {},
     "outputs": []
    },
    {
     "cell_type": "heading",
     "level": 4,
     "metadata": {},
     "source": [
      "Data can be deleted using on the row axis.  "
     ]
    },
    {
     "cell_type": "code",
     "collapsed": false,
     "input": [
      "frame2.drop(6)"
     ],
     "language": "python",
     "metadata": {},
     "outputs": []
    },
    {
     "cell_type": "heading",
     "level": 4,
     "metadata": {},
     "source": [
      "Or on the column axis."
     ]
    },
    {
     "cell_type": "code",
     "collapsed": false,
     "input": [
      "frame2.drop(['gpa','instructor'], axis=1)"
     ],
     "language": "python",
     "metadata": {},
     "outputs": []
    },
    {
     "cell_type": "code",
     "collapsed": false,
     "input": [
      "frame"
     ],
     "language": "python",
     "metadata": {},
     "outputs": []
    },
    {
     "cell_type": "heading",
     "level": 4,
     "metadata": {},
     "source": [
      "To edit a range of of column data try using .ix[row_range, column]"
     ]
    },
    {
     "cell_type": "code",
     "collapsed": false,
     "input": [
      "frame2.ix[0:1, 'instructor'] = 'Cook'\n",
      "frame2"
     ],
     "language": "python",
     "metadata": {},
     "outputs": []
    },
    {
     "cell_type": "code",
     "collapsed": false,
     "input": [
      "frame2.ix[2:, 'instructor'] = 'Collier'\n",
      "frame2"
     ],
     "language": "python",
     "metadata": {},
     "outputs": []
    },
    {
     "cell_type": "heading",
     "level": 4,
     "metadata": {},
     "source": [
      "You can also use .ix to select subsets of your data."
     ]
    },
    {
     "cell_type": "code",
     "collapsed": false,
     "input": [
      "fallClassAttendence = frame2.ix[[0,2,4], ['className','attendence']]\n",
      "fallClassAttendence['className']"
     ],
     "language": "python",
     "metadata": {},
     "outputs": []
    },
    {
     "cell_type": "code",
     "collapsed": false,
     "input": [
      "fallClassAttendence = fallClassAttendence.set_index('className')\n",
      "fallClassAttendence"
     ],
     "language": "python",
     "metadata": {},
     "outputs": []
    },
    {
     "cell_type": "code",
     "collapsed": false,
     "input": [
      "fallClassAttendence.ix['hadoop']"
     ],
     "language": "python",
     "metadata": {},
     "outputs": []
    },
    {
     "cell_type": "code",
     "collapsed": false,
     "input": [
      "fallClassAttendence.ix[0]"
     ],
     "language": "python",
     "metadata": {},
     "outputs": []
    },
    {
     "cell_type": "code",
     "collapsed": false,
     "input": [
      "fallClassAttendence['hadoop']"
     ],
     "language": "python",
     "metadata": {},
     "outputs": []
    },
    {
     "cell_type": "heading",
     "level": 4,
     "metadata": {},
     "source": [
      "Something to take note of is how to select a row vs rows and when to use .ix\n",
      "To get the first row, \n",
      "\n",
      "- DataFrame[0] will not work \n",
      "\n"
     ]
    },
    {
     "cell_type": "code",
     "collapsed": false,
     "input": [
      "fallClassAttendence[0]"
     ],
     "language": "python",
     "metadata": {},
     "outputs": []
    },
    {
     "cell_type": "heading",
     "level": 4,
     "metadata": {},
     "source": [
      "DataFrame[:1] and DataFrame.ix[0] will work."
     ]
    },
    {
     "cell_type": "code",
     "collapsed": false,
     "input": [
      "fallClassAttendence.ix[0]\n",
      "fallClassAttendence[:1] "
     ],
     "language": "python",
     "metadata": {},
     "outputs": []
    },
    {
     "cell_type": "heading",
     "level": 4,
     "metadata": {},
     "source": []
    }
   ],
   "metadata": {}
  }
 ]
}