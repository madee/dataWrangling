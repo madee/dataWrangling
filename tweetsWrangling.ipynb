{
 "metadata": {
  "name": "",
  "signature": "sha256:c9faa0fbfd4af3f5c6c3adf7508405e192a8e9a34468fcb7fc9ce30248efdae4"
 },
 "nbformat": 3,
 "nbformat_minor": 0,
 "worksheets": [
  {
   "cells": [
    {
     "cell_type": "code",
     "collapsed": false,
     "input": [
      "import sys\n",
      "import pandas as pd\n",
      "import json as js"
     ],
     "language": "python",
     "metadata": {},
     "outputs": []
    },
    {
     "cell_type": "code",
     "collapsed": false,
     "input": [
      "#GNIP formatted json file location\n",
      "loc = '/Users/mcook2/junk/ipy/3gniptweets.json'"
     ],
     "language": "python",
     "metadata": {},
     "outputs": []
    },
    {
     "cell_type": "code",
     "collapsed": false,
     "input": [
      "#formatting a json string from the file\n",
      "data = \"[{0}]\".format(\",\".join([l for l in open(loc).readlines()]))"
     ],
     "language": "python",
     "metadata": {},
     "outputs": []
    },
    {
     "cell_type": "code",
     "collapsed": false,
     "input": [
      "print data"
     ],
     "language": "python",
     "metadata": {},
     "outputs": []
    },
    {
     "cell_type": "code",
     "collapsed": false,
     "input": [
      "#convert the json string into a pandas dataframe\n",
      "df = pd.read_json(data, orient='records')"
     ],
     "language": "python",
     "metadata": {},
     "outputs": []
    },
    {
     "cell_type": "code",
     "collapsed": false,
     "input": [
      "df.head()"
     ],
     "language": "python",
     "metadata": {},
     "outputs": []
    },
    {
     "cell_type": "code",
     "collapsed": false,
     "input": [
      "df.postedTime[0]"
     ],
     "language": "python",
     "metadata": {},
     "outputs": []
    },
    {
     "cell_type": "code",
     "collapsed": false,
     "input": [
      "#grab the geo column from the dataframe which is a json string\n",
      "#bash the column of json strings with pandas.Series to convert it to a dataframe\n",
      "#and add an index \n",
      "geo = df['geo'].apply(pd.Series).reset_index()\n",
      "#grab the actor column from the dataframe which is a json string\n",
      "#bash the column of json string with pandas.Series to convert it to a dataframe \n",
      "#and add an index\n",
      "actor = df['actor'].apply(pd.Series).reset_index()\n",
      "#merge the two dataframes together on index\n",
      "tweets = pd.merge(geo, actor)"
     ],
     "language": "python",
     "metadata": {},
     "outputs": []
    },
    {
     "cell_type": "code",
     "collapsed": false,
     "input": [
      "actor.head()"
     ],
     "language": "python",
     "metadata": {},
     "outputs": []
    },
    {
     "cell_type": "code",
     "collapsed": false,
     "input": [
      "#grab the coordinates column from the tweets dataframe\n",
      "coordinates = tweets['coordinates']\n",
      "#function to split the corrdinates by bashing list with pandas.Series\n",
      "splitCoord = lambda x: pd.Series(x)\n",
      "#apply the function to each row in the column\n",
      "coord = coordinates.apply(splitCoord)\n",
      "#rename the columns x & y \n",
      "coord.columns = ['x','y']"
     ],
     "language": "python",
     "metadata": {},
     "outputs": []
    },
    {
     "cell_type": "code",
     "collapsed": false,
     "input": [
      "coord.head()"
     ],
     "language": "python",
     "metadata": {},
     "outputs": []
    },
    {
     "cell_type": "code",
     "collapsed": false,
     "input": [
      "#drop the index column in preparation for esri friendly json file\n",
      "tweets.drop('index', axis=1, inplace=True)\n",
      "#drop the old unseperated coordinates column\n",
      "tweets.drop('coordinates', axis=1, inplace=True)"
     ],
     "language": "python",
     "metadata": {},
     "outputs": []
    },
    {
     "cell_type": "code",
     "collapsed": false,
     "input": [
      "#the json string that will be wrote to a file\n",
      "jsonString = ''\n",
      "\n",
      "#build the esri json string \n",
      "for i in coord.index:\n",
      "    jsonString += \"\"\"{\n",
      "    \"geometry\": %s\n",
      "    \"attributes: %s\n",
      "}\n",
      "\"\"\" % (coord.loc[i].to_json(), tweets.loc[i].to_json())\n",
      "    "
     ],
     "language": "python",
     "metadata": {},
     "outputs": []
    },
    {
     "cell_type": "code",
     "collapsed": false,
     "input": [
      "#location for esri hadoop json file\n",
      "output = open('./esriHadoop.json', 'w')\n",
      "output.write(jsonString)\n",
      "output.close()"
     ],
     "language": "python",
     "metadata": {},
     "outputs": []
    },
    {
     "cell_type": "code",
     "collapsed": false,
     "input": [
      "csvString = ''\n",
      "for i in coord.index:\n",
      "    csvString += \"\"\"%s,%s,%s\\n\"\"\" % (str(df.postedTime[i]),str(coord.x[i]),str(coord.y[i]))"
     ],
     "language": "python",
     "metadata": {},
     "outputs": []
    },
    {
     "cell_type": "code",
     "collapsed": false,
     "input": [
      "csvString"
     ],
     "language": "python",
     "metadata": {},
     "outputs": []
    },
    {
     "cell_type": "code",
     "collapsed": false,
     "input": [
      "output = open('./esriHadoop.csv', 'w')\n",
      "output.write(csvString)\n",
      "output.close()"
     ],
     "language": "python",
     "metadata": {},
     "outputs": []
    },
    {
     "cell_type": "code",
     "collapsed": false,
     "input": [
      "!cat esriHadoop.csv"
     ],
     "language": "python",
     "metadata": {},
     "outputs": []
    },
    {
     "cell_type": "code",
     "collapsed": false,
     "input": [],
     "language": "python",
     "metadata": {},
     "outputs": []
    }
   ],
   "metadata": {}
  }
 ]
}